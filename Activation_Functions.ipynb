{
  "nbformat": 4,
  "nbformat_minor": 0,
  "metadata": {
    "colab": {
      "name": "Activation Functions.ipynb",
      "provenance": [],
      "collapsed_sections": [],
      "authorship_tag": "ABX9TyOIHC6dCR1jptoPEDFrWEaF",
      "include_colab_link": true
    },
    "kernelspec": {
      "name": "python3",
      "display_name": "Python 3"
    },
    "language_info": {
      "name": "python"
    }
  },
  "cells": [
    {
      "cell_type": "markdown",
      "metadata": {
        "id": "view-in-github",
        "colab_type": "text"
      },
      "source": [
        "<a href=\"https://colab.research.google.com/github/iamatul1214/Activation_Functions/blob/main/Activation_Functions.ipynb\" target=\"_parent\"><img src=\"https://colab.research.google.com/assets/colab-badge.svg\" alt=\"Open In Colab\"/></a>"
      ]
    },
    {
      "cell_type": "markdown",
      "source": [
        "## Here I have implemented various Activation function and tried to visualize them using plots"
      ],
      "metadata": {
        "id": "AKw1Ly9VLnek"
      }
    },
    {
      "cell_type": "code",
      "source": [
        "import numpy as np\n",
        "import matplotlib.pyplot as plt\n",
        "import math"
      ],
      "metadata": {
        "id": "NGCV-NQBMHRy"
      },
      "execution_count": 1,
      "outputs": []
    },
    {
      "cell_type": "markdown",
      "source": [
        "# Sigmoid activation functions"
      ],
      "metadata": {
        "id": "_qbpbjcmL6J6"
      }
    },
    {
      "cell_type": "markdown",
      "source": [
        "### The range of the Sigmoid activation function is from 0 to 1. Hence, we use it for binday classification as well."
      ],
      "metadata": {
        "id": "IuODE8_bPM-T"
      }
    },
    {
      "cell_type": "code",
      "execution_count": 46,
      "metadata": {
        "colab": {
          "base_uri": "https://localhost:8080/"
        },
        "id": "JHTJvwR4Lhsv",
        "outputId": "5f61e4c4-526d-4595-a538-3c2a7ef12a8b"
      },
      "outputs": [
        {
          "output_type": "stream",
          "name": "stdout",
          "text": [
            "sigmoid output = 0.9995758503596395\n"
          ]
        }
      ],
      "source": [
        "def sigmoid_fn(input):\n",
        "  sigmoid_fn = 1/(1 + np.exp(-input))\n",
        "  print(f\"sigmoid output = {sigmoid_fn}\")\n",
        "  return sigmoid_fn\n",
        "\n",
        "z = sigmoid_fn(7.765)"
      ]
    },
    {
      "cell_type": "code",
      "source": [
        "def plot(inputs,activation_output, activation_fn_name):\n",
        "  plt.plot(inputs,activation_output)\n",
        "  plt.xlabel(\"input_values\")\n",
        "  plt.ylabel(activation_fn_name+\" output\")\n",
        "  plt.show()\n"
      ],
      "metadata": {
        "id": "TvVuXfDqM0yN"
      },
      "execution_count": 14,
      "outputs": []
    },
    {
      "cell_type": "code",
      "source": [
        "inputs = np.linspace(-100,100,200)\n",
        "z = sigmoid_fn(inputs)\n",
        "plot(inputs,z,activation_fn_name=\"Sigmoid\"\n",
        "     )"
      ],
      "metadata": {
        "colab": {
          "base_uri": "https://localhost:8080/",
          "height": 280
        },
        "id": "c2DR3Y_IM529",
        "outputId": "31fa534e-ee1c-4f0c-9b80-ce5d4d3c6715"
      },
      "execution_count": 17,
      "outputs": [
        {
          "output_type": "display_data",
          "data": {
            "text/plain": [
              "<Figure size 432x288 with 1 Axes>"
            ],
            "image/png": "[encoded data removed]"
          },
          "metadata": {
            "needs_background": "light"
          }
        }
      ]
    },
    {
      "cell_type": "markdown",
      "source": [
        "## Tanh or hyperbolic tangent Activation Function"
      ],
      "metadata": {
        "id": "EjGKcYvIPXrw"
      }
    },
    {
      "cell_type": "markdown",
      "source": [
        "### The range of tanh activation function is from -1 to 1."
      ],
      "metadata": {
        "id": "VSwbKeo8Pexp"
      }
    },
    {
      "cell_type": "code",
      "source": [
        "def tanh_fn(input):\n",
        "  tanh_fn = (np.exp(input) - np.exp(-input))/(np.exp(input) + np.exp(-input))\n",
        "  print(f\"tanh activation output  = {tanh_fn}\")\n",
        "  return tanh_fn\n",
        "\n",
        "tanh = tanh_fn(np.linspace(-6,6,100))"
      ],
      "metadata": {
        "colab": {
          "base_uri": "https://localhost:8080/"
        },
        "id": "7H2uqvlLO5Gb",
        "outputId": "b5341fec-244a-466b-daa9-e781b4fe6677"
      },
      "execution_count": 27,
      "outputs": [
        {
          "output_type": "stream",
          "name": "stdout",
          "text": [
            "tanh activation output  = [-0.99998771 -0.99998434 -0.99998004 -0.99997457 -0.99996759 -0.9999587\n",
            " -0.99994738 -0.99993294 -0.99991454 -0.9998911  -0.99986123 -0.99982316\n",
            " -0.99977465 -0.99971284 -0.99963408 -0.99953372 -0.99940584 -0.9992429\n",
            " -0.99903531 -0.99877082 -0.99843388 -0.99800466 -0.99745797 -0.99676173\n",
            " -0.99587519 -0.99474658 -0.99331021 -0.99148279 -0.98915888 -0.9862053\n",
            " -0.98245414 -0.97769438 -0.97166188 -0.96402758 -0.95438418 -0.94223163\n",
            " -0.92696251 -0.90784899 -0.88403458 -0.85453511 -0.81825539 -0.77402985\n",
            " -0.72069563 -0.6572057  -0.58278295 -0.49710574 -0.40049842 -0.2940833\n",
            " -0.17984082 -0.06053197  0.06053197  0.17984082  0.2940833   0.40049842\n",
            "  0.49710574  0.58278295  0.6572057   0.72069563  0.77402985  0.81825539\n",
            "  0.85453511  0.88403458  0.90784899  0.92696251  0.94223163  0.95438418\n",
            "  0.96402758  0.97166188  0.97769438  0.98245414  0.9862053   0.98915888\n",
            "  0.99148279  0.99331021  0.99474658  0.99587519  0.99676173  0.99745797\n",
            "  0.99800466  0.99843388  0.99877082  0.99903531  0.9992429   0.99940584\n",
            "  0.99953372  0.99963408  0.99971284  0.99977465  0.99982316  0.99986123\n",
            "  0.9998911   0.99991454  0.99993294  0.99994738  0.9999587   0.99996759\n",
            "  0.99997457  0.99998004  0.99998434  0.99998771]\n"
          ]
        }
      ]
    },
    {
      "cell_type": "code",
      "source": [
        "input = np.linspace(-10,10,100)\n",
        "z = tanh_fn(input)\n",
        "plot(input,z,activation_fn_name=\"Tanh\")"
      ],
      "metadata": {
        "colab": {
          "base_uri": "https://localhost:8080/",
          "height": 587
        },
        "id": "6507m1ikRea5",
        "outputId": "e3d9a499-66b2-4b5d-8879-033a6bd84c5b"
      },
      "execution_count": 28,
      "outputs": [
        {
          "output_type": "stream",
          "name": "stdout",
          "text": [
            "tanh activation output  = [-1.         -0.99999999 -0.99999999 -0.99999999 -0.99999998 -0.99999997\n",
            " -0.99999995 -0.99999993 -0.9999999  -0.99999984 -0.99999977 -0.99999965\n",
            " -0.99999947 -0.99999921 -0.99999882 -0.99999823 -0.99999735 -0.99999604\n",
            " -0.99999406 -0.99999111 -0.99998668 -0.99998004 -0.99997011 -0.99995523\n",
            " -0.99993294 -0.99989955 -0.99984955 -0.99977465 -0.99966248 -0.99949449\n",
            " -0.9992429  -0.99886619 -0.99830218 -0.99745797 -0.99619479 -0.9943057\n",
            " -0.99148279 -0.98726936 -0.98099146 -0.97166188 -0.95785067 -0.93752157\n",
            " -0.90784899 -0.86506558 -0.8044548  -0.72069563 -0.60883666 -0.46607983\n",
            " -0.2940833  -0.10066796  0.10066796  0.2940833   0.46607983  0.60883666\n",
            "  0.72069563  0.8044548   0.86506558  0.90784899  0.93752157  0.95785067\n",
            "  0.97166188  0.98099146  0.98726936  0.99148279  0.9943057   0.99619479\n",
            "  0.99745797  0.99830218  0.99886619  0.9992429   0.99949449  0.99966248\n",
            "  0.99977465  0.99984955  0.99989955  0.99993294  0.99995523  0.99997011\n",
            "  0.99998004  0.99998668  0.99999111  0.99999406  0.99999604  0.99999735\n",
            "  0.99999823  0.99999882  0.99999921  0.99999947  0.99999965  0.99999977\n",
            "  0.99999984  0.9999999   0.99999993  0.99999995  0.99999997  0.99999998\n",
            "  0.99999999  0.99999999  0.99999999  1.        ]\n"
          ]
        },
        {
          "output_type": "display_data",
          "data": {
            "text/plain": [
              "<Figure size 432x288 with 1 Axes>"
            ],
            "image/png": "[encoded data removed]"
          },
          "metadata": {
            "needs_background": "light"
          }
        }
      ]
    },
    {
      "cell_type": "markdown",
      "source": [
        "## Rectified Linear unit (Relu) Activation function"
      ],
      "metadata": {
        "id": "pXn-x9pmTaFY"
      }
    },
    {
      "cell_type": "markdown",
      "source": [
        "## The range of relu is from 0 to infinity. It is half rectified from bottom."
      ],
      "metadata": {
        "id": "1cv-JkooTbqf"
      }
    },
    {
      "cell_type": "code",
      "source": [
        "def relu_fn(input):\n",
        "  # if input > 0:\n",
        "  #   relu = input\n",
        "  # else:\n",
        "  #   relu = 0\n",
        "  relu = np.maximum(0.0, input)\n",
        "  print(f\"Relu output = {relu}\")\n",
        "  return relu\n",
        "\n",
        "relu = relu_fn(np.linspace(-10,10,100))\n"
      ],
      "metadata": {
        "colab": {
          "base_uri": "https://localhost:8080/"
        },
        "id": "-rLFYSHkQzTv",
        "outputId": "672499f3-f211-4184-ebb4-ad215093f070"
      },
      "execution_count": 42,
      "outputs": [
        {
          "output_type": "stream",
          "name": "stdout",
          "text": [
            "Relu output = [ 0.          0.          0.          0.          0.          0.\n",
            "  0.          0.          0.          0.          0.          0.\n",
            "  0.          0.          0.          0.          0.          0.\n",
            "  0.          0.          0.          0.          0.          0.\n",
            "  0.          0.          0.          0.          0.          0.\n",
            "  0.          0.          0.          0.          0.          0.\n",
            "  0.          0.          0.          0.          0.          0.\n",
            "  0.          0.          0.          0.          0.          0.\n",
            "  0.          0.          0.1010101   0.3030303   0.50505051  0.70707071\n",
            "  0.90909091  1.11111111  1.31313131  1.51515152  1.71717172  1.91919192\n",
            "  2.12121212  2.32323232  2.52525253  2.72727273  2.92929293  3.13131313\n",
            "  3.33333333  3.53535354  3.73737374  3.93939394  4.14141414  4.34343434\n",
            "  4.54545455  4.74747475  4.94949495  5.15151515  5.35353535  5.55555556\n",
            "  5.75757576  5.95959596  6.16161616  6.36363636  6.56565657  6.76767677\n",
            "  6.96969697  7.17171717  7.37373737  7.57575758  7.77777778  7.97979798\n",
            "  8.18181818  8.38383838  8.58585859  8.78787879  8.98989899  9.19191919\n",
            "  9.39393939  9.5959596   9.7979798  10.        ]\n"
          ]
        }
      ]
    },
    {
      "cell_type": "code",
      "source": [
        "input = np.linspace(-10,10,100)\n",
        "z = relu_fn(input)\n",
        "plot(input, z, activation_fn_name=\"Relu \")"
      ],
      "metadata": {
        "colab": {
          "base_uri": "https://localhost:8080/",
          "height": 587
        },
        "id": "RKLXjuIpTYd3",
        "outputId": "61182f3a-7bc2-43c2-cbcf-7c6ac99b115e"
      },
      "execution_count": 44,
      "outputs": [
        {
          "output_type": "stream",
          "name": "stdout",
          "text": [
            "Relu output = [ 0.          0.          0.          0.          0.          0.\n",
            "  0.          0.          0.          0.          0.          0.\n",
            "  0.          0.          0.          0.          0.          0.\n",
            "  0.          0.          0.          0.          0.          0.\n",
            "  0.          0.          0.          0.          0.          0.\n",
            "  0.          0.          0.          0.          0.          0.\n",
            "  0.          0.          0.          0.          0.          0.\n",
            "  0.          0.          0.          0.          0.          0.\n",
            "  0.          0.          0.1010101   0.3030303   0.50505051  0.70707071\n",
            "  0.90909091  1.11111111  1.31313131  1.51515152  1.71717172  1.91919192\n",
            "  2.12121212  2.32323232  2.52525253  2.72727273  2.92929293  3.13131313\n",
            "  3.33333333  3.53535354  3.73737374  3.93939394  4.14141414  4.34343434\n",
            "  4.54545455  4.74747475  4.94949495  5.15151515  5.35353535  5.55555556\n",
            "  5.75757576  5.95959596  6.16161616  6.36363636  6.56565657  6.76767677\n",
            "  6.96969697  7.17171717  7.37373737  7.57575758  7.77777778  7.97979798\n",
            "  8.18181818  8.38383838  8.58585859  8.78787879  8.98989899  9.19191919\n",
            "  9.39393939  9.5959596   9.7979798  10.        ]\n"
          ]
        },
        {
          "output_type": "display_data",
          "data": {
            "text/plain": [
              "<Figure size 432x288 with 1 Axes>"
            ],
            "image/png": "[encoded data removed]"
          },
          "metadata": {
            "needs_background": "light"
          }
        }
      ]
    },
    {
      "cell_type": "markdown",
      "source": [
        "## Leaky Relu"
      ],
      "metadata": {
        "id": "dyBVMMHCYa4v"
      }
    },
    {
      "cell_type": "markdown",
      "source": [
        "### It was introduced so that in Relu we used to have zero for long time then grapgh used to elevate. In leaky relu we will do max(a.x,x) where a can be any numbers with little magnitude eg 0.1, 0.5 etc"
      ],
      "metadata": {
        "id": "fI1X_GI8YdL2"
      }
    },
    {
      "cell_type": "code",
      "source": [
        "def Leaky_relu_fn(input):\n",
        "  a=0.25\n",
        "  Leaky_relu = np.maximum(a*input, input)\n",
        "  print(f\"Leaky_Relu output = {Leaky_relu}\")\n",
        "  return Leaky_relu\n",
        "\n",
        "leaky = Leaky_relu_fn(np.linspace(-10,10,100))\n",
        "print(leaky)"
      ],
      "metadata": {
        "colab": {
          "base_uri": "https://localhost:8080/"
        },
        "id": "s4Y_B3wuXqfQ",
        "outputId": "7ca7c930-818c-4add-c3f6-7487df48b41f"
      },
      "execution_count": 55,
      "outputs": [
        {
          "output_type": "stream",
          "name": "stdout",
          "text": [
            "Leaky_Relu output = [-2.5        -2.44949495 -2.3989899  -2.34848485 -2.2979798  -2.24747475\n",
            " -2.1969697  -2.14646465 -2.0959596  -2.04545455 -1.99494949 -1.94444444\n",
            " -1.89393939 -1.84343434 -1.79292929 -1.74242424 -1.69191919 -1.64141414\n",
            " -1.59090909 -1.54040404 -1.48989899 -1.43939394 -1.38888889 -1.33838384\n",
            " -1.28787879 -1.23737374 -1.18686869 -1.13636364 -1.08585859 -1.03535354\n",
            " -0.98484848 -0.93434343 -0.88383838 -0.83333333 -0.78282828 -0.73232323\n",
            " -0.68181818 -0.63131313 -0.58080808 -0.53030303 -0.47979798 -0.42929293\n",
            " -0.37878788 -0.32828283 -0.27777778 -0.22727273 -0.17676768 -0.12626263\n",
            " -0.07575758 -0.02525253  0.1010101   0.3030303   0.50505051  0.70707071\n",
            "  0.90909091  1.11111111  1.31313131  1.51515152  1.71717172  1.91919192\n",
            "  2.12121212  2.32323232  2.52525253  2.72727273  2.92929293  3.13131313\n",
            "  3.33333333  3.53535354  3.73737374  3.93939394  4.14141414  4.34343434\n",
            "  4.54545455  4.74747475  4.94949495  5.15151515  5.35353535  5.55555556\n",
            "  5.75757576  5.95959596  6.16161616  6.36363636  6.56565657  6.76767677\n",
            "  6.96969697  7.17171717  7.37373737  7.57575758  7.77777778  7.97979798\n",
            "  8.18181818  8.38383838  8.58585859  8.78787879  8.98989899  9.19191919\n",
            "  9.39393939  9.5959596   9.7979798  10.        ]\n",
            "[-2.5        -2.44949495 -2.3989899  -2.34848485 -2.2979798  -2.24747475\n",
            " -2.1969697  -2.14646465 -2.0959596  -2.04545455 -1.99494949 -1.94444444\n",
            " -1.89393939 -1.84343434 -1.79292929 -1.74242424 -1.69191919 -1.64141414\n",
            " -1.59090909 -1.54040404 -1.48989899 -1.43939394 -1.38888889 -1.33838384\n",
            " -1.28787879 -1.23737374 -1.18686869 -1.13636364 -1.08585859 -1.03535354\n",
            " -0.98484848 -0.93434343 -0.88383838 -0.83333333 -0.78282828 -0.73232323\n",
            " -0.68181818 -0.63131313 -0.58080808 -0.53030303 -0.47979798 -0.42929293\n",
            " -0.37878788 -0.32828283 -0.27777778 -0.22727273 -0.17676768 -0.12626263\n",
            " -0.07575758 -0.02525253  0.1010101   0.3030303   0.50505051  0.70707071\n",
            "  0.90909091  1.11111111  1.31313131  1.51515152  1.71717172  1.91919192\n",
            "  2.12121212  2.32323232  2.52525253  2.72727273  2.92929293  3.13131313\n",
            "  3.33333333  3.53535354  3.73737374  3.93939394  4.14141414  4.34343434\n",
            "  4.54545455  4.74747475  4.94949495  5.15151515  5.35353535  5.55555556\n",
            "  5.75757576  5.95959596  6.16161616  6.36363636  6.56565657  6.76767677\n",
            "  6.96969697  7.17171717  7.37373737  7.57575758  7.77777778  7.97979798\n",
            "  8.18181818  8.38383838  8.58585859  8.78787879  8.98989899  9.19191919\n",
            "  9.39393939  9.5959596   9.7979798  10.        ]\n"
          ]
        }
      ]
    },
    {
      "cell_type": "code",
      "source": [
        "plot(inputs=np.linspace(-10,10,100), activation_output=Leaky_relu_fn(np.linspace(-10,10,100)),activation_fn_name=\" Leaky Relu \")"
      ],
      "metadata": {
        "colab": {
          "base_uri": "https://localhost:8080/",
          "height": 587
        },
        "id": "ORnrpwQ9ZLFY",
        "outputId": "be032124-d9ce-471a-bf86-688845447dca"
      },
      "execution_count": 57,
      "outputs": [
        {
          "output_type": "stream",
          "name": "stdout",
          "text": [
            "Leaky_Relu output = [-2.5        -2.44949495 -2.3989899  -2.34848485 -2.2979798  -2.24747475\n",
            " -2.1969697  -2.14646465 -2.0959596  -2.04545455 -1.99494949 -1.94444444\n",
            " -1.89393939 -1.84343434 -1.79292929 -1.74242424 -1.69191919 -1.64141414\n",
            " -1.59090909 -1.54040404 -1.48989899 -1.43939394 -1.38888889 -1.33838384\n",
            " -1.28787879 -1.23737374 -1.18686869 -1.13636364 -1.08585859 -1.03535354\n",
            " -0.98484848 -0.93434343 -0.88383838 -0.83333333 -0.78282828 -0.73232323\n",
            " -0.68181818 -0.63131313 -0.58080808 -0.53030303 -0.47979798 -0.42929293\n",
            " -0.37878788 -0.32828283 -0.27777778 -0.22727273 -0.17676768 -0.12626263\n",
            " -0.07575758 -0.02525253  0.1010101   0.3030303   0.50505051  0.70707071\n",
            "  0.90909091  1.11111111  1.31313131  1.51515152  1.71717172  1.91919192\n",
            "  2.12121212  2.32323232  2.52525253  2.72727273  2.92929293  3.13131313\n",
            "  3.33333333  3.53535354  3.73737374  3.93939394  4.14141414  4.34343434\n",
            "  4.54545455  4.74747475  4.94949495  5.15151515  5.35353535  5.55555556\n",
            "  5.75757576  5.95959596  6.16161616  6.36363636  6.56565657  6.76767677\n",
            "  6.96969697  7.17171717  7.37373737  7.57575758  7.77777778  7.97979798\n",
            "  8.18181818  8.38383838  8.58585859  8.78787879  8.98989899  9.19191919\n",
            "  9.39393939  9.5959596   9.7979798  10.        ]\n"
          ]
        },
        {
          "output_type": "display_data",
          "data": {
            "text/plain": [
              "<Figure size 432x288 with 1 Axes>"
            ],
            "image/png": "[encoded data removed]"
          },
          "metadata": {
            "needs_background": "light"
          }
        }
      ]
    },
    {
      "cell_type": "markdown",
      "source": [
        "## Softmax activation function"
      ],
      "metadata": {
        "id": "U22pVxwOc2Xe"
      }
    },
    {
      "cell_type": "markdown",
      "source": [
        "### The softmax activation function simply tells the probability of the numbers given as input to it in the list. It is used in multiclass classification problems where we can see the probabilites of the list. \n",
        "\n",
        "### Let us see a simple example of that. In order to acheive this we will use probability = exp(value) / sum v in list exp(v)\n",
        "\n",
        "### -> Scaling the values in the list and converting them into probabilities such that all values in the returned list sum to 1.0 which can be achieved by calculating the exponentials on the numbers in the list."
      ],
      "metadata": {
        "id": "UsTFL7TVc4qG"
      }
    },
    {
      "cell_type": "code",
      "source": [
        "def softmax_fn(input):\n",
        "  e = np.exp(input)\n",
        "  sf = e/e.sum()\n",
        "  print(f\"Softmax output = {sf}\")\n",
        "  print(f\"Sum of the probabilites = {sum(sf)}\")\n",
        "  print(f\"Maximum probability  = {max(sf)}\")\n",
        "  return sf\n",
        "\n",
        "softmax_fn([1,2,3,4])"
      ],
      "metadata": {
        "colab": {
          "base_uri": "https://localhost:8080/"
        },
        "id": "bEiAW43XaXK7",
        "outputId": "47499784-7dcc-4524-94ef-00a6d6db9792"
      },
      "execution_count": 62,
      "outputs": [
        {
          "output_type": "stream",
          "name": "stdout",
          "text": [
            "Softmax output = [0.0320586  0.08714432 0.23688282 0.64391426]\n",
            "Sum of the probabilites = 1.0\n",
            "Maximum probability  = 0.6439142598879722\n"
          ]
        },
        {
          "output_type": "execute_result",
          "data": {
            "text/plain": [
              "array([0.0320586 , 0.08714432, 0.23688282, 0.64391426])"
            ]
          },
          "metadata": {},
          "execution_count": 62
        }
      ]
    },
    {
      "cell_type": "code",
      "source": [
        ""
      ],
      "metadata": {
        "id": "TjVwHtxIfDOv"
      },
      "execution_count": null,
      "outputs": []
    }
  ]
}